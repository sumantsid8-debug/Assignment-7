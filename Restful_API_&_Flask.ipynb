{
  "nbformat": 4,
  "nbformat_minor": 0,
  "metadata": {
    "colab": {
      "provenance": []
    },
    "kernelspec": {
      "name": "python3",
      "display_name": "Python 3"
    },
    "language_info": {
      "name": "python"
    }
  },
  "cells": [
    {
      "cell_type": "markdown",
      "source": [
        "**THEORY QUSTION OF RESTFUL API & FLASK**\n"
      ],
      "metadata": {
        "id": "gp42ZoBqtd17"
      }
    },
    {
      "cell_type": "markdown",
      "source": [
        "Q-1  What is a RESTful API?\n",
        "\n",
        "\n",
        "  ANS-- A RESTful API (Representational State Transfer API) is a type of web API that follows the principles of REST architecture, which is a set of design guidelines for building scalable web services.\n",
        "\n",
        "  1- Client-Server Architecture\n",
        "    \n",
        "    * The client (e.g., a browser or mobile app) makes requests.\n",
        "\n",
        "    * The server processes those requests and sends back responses.\n",
        "\n",
        "    * They operate independently.\n",
        "\n",
        "  2 - Stateless\n",
        "\n",
        "     * Each request from a client must contain all the information needed to process it.\n",
        "\n",
        "     * The server does not store any session information about the client between requests.\n",
        "\n",
        "   3- Resources and URLs\n",
        "\n",
        "     * Resources (data) are identified using URLs.\n",
        "\n",
        "   4- | HTTP Method | Action         | Description               |\n",
        "| ----------- | -------------- | ------------------------- |\n",
        "| `GET`       | Read           | Retrieve data             |\n",
        "| `POST`      | Create         | Submit new data           |\n",
        "| `PUT`       | Update/Replace | Replace existing data     |\n",
        "| `PATCH`     | Modify         | Update part of a resource |\n",
        "| `DELETE`    | Delete         | Remove data               |\n"
      ],
      "metadata": {
        "id": "EG_yMwaBtu4w"
      }
    },
    {
      "cell_type": "markdown",
      "source": [
        "Q-2  Explain the concept of API specification.\n",
        "\n",
        "  ANS-- An API specification is a detailed, formal description of how an API works — what it offers, how to use it, and what developers can expect when they interact with it.\n",
        "\n",
        "\n",
        " Concepts in an API Specification:\n",
        "\n",
        "   2. HTTP Methods\n",
        "      \n",
        "    Specifies what methods are allowed at each endpoint:\n",
        "\n",
        "  * GET, POST, PUT, DELETE, PATCH, etc.\n",
        "\n",
        "   3. Request Format:-\n",
        "\n",
        "     * Parameters (query, path, header, body)\n",
        "\n",
        "     * Required fields\n",
        "\n",
        "     * Data types"
      ],
      "metadata": {
        "id": "lDO6nMV3vxWy"
      }
    },
    {
      "cell_type": "markdown",
      "source": [
        "Q-3  What is Flask, and why is it popular for building APIs?\n",
        "\n",
        "  ANS-- Flask is a lightweight, Python-based web framework used for building web applications and APIs. It’s particularly popular for creating RESTful APIs due to its simplicity, flexibility, and ease of use.\n",
        "\n",
        "\n",
        " Why Flask Is Popular for Building APIs\n",
        "\n",
        "   1. Minimal and Flexible\n",
        "     \n",
        "     * You start with a blank slate — no assumptions or enforced architecture.\n",
        "\n",
        "     * You can design your API exactly how you want it without fighting the framework.\n",
        "\n",
        "  2. Simple and Intuitive\n",
        "\n",
        "    * Great for beginners and small-to-medium applications.\n",
        "\n",
        "    * Clean and readable syntax that aligns well with Pythonic principles.\n",
        "\n",
        " 3. Built-in Development Server\n",
        "   \n",
        "   * Flask has an easy-to-use local server, perfect for rapid prototyping and debugging.\n",
        "\n",
        " 4. Strong Community and Ecosystem\n",
        "   \n",
        "   * Large number of extensions (like Flask-RESTful, Flask-JWT, Flask-SQLAlchemy).\n",
        "\n",
        "   * Helpful documentation and tutorials available.\n"
      ],
      "metadata": {
        "id": "uOiTIfHGf97a"
      }
    },
    {
      "cell_type": "markdown",
      "source": [
        "Q-4  What is routing in Flask?\n",
        "\n",
        "  ANS-- Routing in Flask is the mechanism that maps URLs (web addresses) to Python functions in your application. These functions are called view functions, and they define what should happen when someone accesses a particular route (URL) in the app."
      ],
      "metadata": {
        "id": "o9oe0G2GhoFC"
      }
    },
    {
      "cell_type": "markdown",
      "source": [
        "Q-5 How do you create a simple Flask application?\n",
        "\n",
        "  ANS-- from flask import flask\n",
        "\n",
        "    app = flask(__name__)\n",
        "\n",
        "define a route\n",
        "\n",
        "    @app.route(\"/\")\n",
        "    def home():\n",
        "      return \"hello, flask!\"\n",
        "\n",
        "    run the app\n",
        "        \n",
        "        if__name__==\"__main__\":\n",
        "        app.run(debug=true)"
      ],
      "metadata": {
        "id": "kJeaxClPh-7i"
      }
    },
    {
      "cell_type": "markdown",
      "source": [
        "Q- 6 What are HTTP methods used in RESTful APIs?\n",
        "\n",
        "   ANS-- In RESTful APIs, HTTP methods define the type of operation a client wants to perform on a resource (like data in a database). These methods are the foundation of how REST APIs work.\n",
        "\n",
        "  \n",
        "| Method      | Purpose                            | Typical Use Case                       |\n",
        "| ----------- | ---------------------------------- | -------------------------------------- |\n",
        "| **GET**     | Retrieve data                      | Get a list of users or a specific user |\n",
        "| **POST**    | Create new data                    | Add a new user                         |\n",
        "| **PUT**     | Update/replace existing data       | Replace user information               |\n",
        "| **PATCH**   | Partially update existing data     | Update only the user's email           |\n",
        "| **DELETE**  | Delete data                        | Remove a user                          |\n",
        "| **OPTIONS** | Describe communication options     | Check what methods are allowed         |\n",
        "| **HEAD**    | Like GET, but returns only headers | Check if a resource exists             |\n"
      ],
      "metadata": {
        "id": "awRr5A4dinyC"
      }
    },
    {
      "cell_type": "markdown",
      "source": [
        "Q-7 What is the purpose of the @app.route() decorator in Flask?\n",
        "\n",
        "  ANS-- The @app.route() decorator in Flask is used to bind a URL path to a Python function — called a view function. This tells Flask what code to execute when a particular URL is requested by a client (like a web browser or an API call).\n",
        "\n",
        "\n",
        "  EXAMPLE:-\n",
        "      \n",
        "       from flask import Flask\n",
        "app = Flask(__name__)\n",
        "\n",
        "@app.route('/')\n",
        "def home():\n",
        "    return \"Welcome to the homepage!\"\n",
        "\n",
        " * When a user visits /, the home() function is executed.\n",
        "\n",
        " * The return value (\"Welcome to the homepage!\") is sent back as the response."
      ],
      "metadata": {
        "id": "o-olFlRojA1F"
      }
    },
    {
      "cell_type": "markdown",
      "source": [
        "Q-8 What is the difference between GET and POST HTTP methods?\n",
        "\n",
        "  ANS-- The difference between GET and POST HTTP methods lies mainly in how data is sent from the client to the server and what each method is intended for.\n",
        "\n",
        "\n",
        "\n",
        "    | Feature               | **GET**                                           | **POST**                              |\n",
        "| --------------------- | ------------------------------------------------- | ------------------------------------- |\n",
        "| **Purpose**           | Retrieve data (read-only)                         | Submit data (create or process data)  |\n",
        "| **Data Location**     | Sent in URL (query string)                        | Sent in request body                  |\n",
        "| **Visible in URL?**   |  Yes                                             |  No (more secure for sensitive data) |\n",
        "| **Caching**           |  Can be cached                                   |  Not typically cached                |\n",
        "| **Bookmarkable**      |  Yes (URL can be saved)                          |  No                                  |\n",
        "| **Idempotent**        |  Yes (multiple identical requests → same result) |  No (may create duplicates)          |\n",
        "| **Use Case Examples** | Get user info, search, load page                  | Submit a form, register, login        |\n"
      ],
      "metadata": {
        "id": "ZJOdxPR_mput"
      }
    },
    {
      "cell_type": "markdown",
      "source": [
        "Q-9 How do you handle errors in Flask APIs?\n",
        "\n",
        "  ANS-- In a Flask API, error handling is important for sending clear, consistent, and meaningful responses to the client when something goes wrong (e.g., bad request, not found, internal error).\n",
        "\n",
        " EXAMPLE:- Custom Error Handlers\n",
        "\n",
        "     from flask import jsonify\n",
        "\n",
        "@app.errorhandler(404)\n",
        "def not_found(error):\n",
        "    return jsonify({\"error\": \"Resource not found\"}), 404\n",
        "\n",
        "@app.errorhandler(400)\n",
        "def bad_request(error):\n",
        "    return jsonify({\"error\": \"Bad request\"}), 400\n",
        "\n",
        "@app.errorhandler(500)\n",
        "def server_error(error):\n",
        "    return jsonify({\"error\": \"Internal server error\"}), 500\n",
        "\n",
        "    \n",
        "     \n",
        "\n"
      ],
      "metadata": {
        "id": "3rCtzix9nlBj"
      }
    },
    {
      "cell_type": "markdown",
      "source": [
        "Q-10 How do you connect Flask to a SQL database?\n",
        "\n",
        "   ANS-- Connecting Flask to a SQL database involves using a database library to manage the connection and interact with the database. The most common and recommended way is by using Flask-SQLAlchemy, which integrates the SQLAlchemy ORM with Flask."
      ],
      "metadata": {
        "id": "SdhzvM-qqhzp"
      }
    },
    {
      "cell_type": "markdown",
      "source": [
        "Q-11  What is the role of Flask-SQLAlchemy?\n",
        "\n",
        "  ANS-- Flask-SQLAlchemy is an extension for Flask that integrates SQLAlchemy—a powerful Python ORM (Object Relational Mapper)—with the Flask web framework.\n",
        "\n",
        "It makes it much easier to work with databases in Flask applications by providing:\n",
        "\n",
        "  * Simple configuration\n",
        "\n",
        "  * Automatic integration with Flask’s app context\n",
        "\n",
        "  * Helper methods to manage database sessions\n",
        "\n",
        "  * Declarative syntax for defining models (tables)"
      ],
      "metadata": {
        "id": "Q65PXGBHr0on"
      }
    },
    {
      "cell_type": "markdown",
      "source": [
        "Q-12 What are Flask blueprints, and how are they usefu?\n",
        "\n",
        "\n",
        "  ANS-- Flask Blueprints are a feature in Flask that allow you to organize your application into smaller, reusable components.\n",
        "\n",
        "\n",
        "  |  Use Case                                             |  Benefit                               |\n",
        "| ------------------------------------------------------ | ---------------------------------------- |\n",
        "| Your app is getting large                              | Keeps code organized and modular         |\n",
        "| You have different app sections (e.g. auth, blog, API) | Each section can be isolated             |\n",
        "| You want to reuse code across apps                     | Blueprints are reusable                  |\n",
        "| You work with a team                                   | Easier collaboration and structure       |\n",
        "| You want cleaner routing                               | Use `url_prefix` to group related routes |\n"
      ],
      "metadata": {
        "id": "b3eBHfb4s8Pf"
      }
    },
    {
      "cell_type": "markdown",
      "source": [
        "Q-13 What is the purpose of Flask's request object?\n",
        "\n",
        "  ANS-- The request object in Flask is used to access data sent by the client to the server. It allows your Flask app to read incoming HTTP request data, such as:\n",
        "\n",
        "  * Form inputs\n",
        "\n",
        "  * JSON payloads\n",
        "\n",
        "  * URL query parameters\n",
        "\n",
        "  * File uploads\n",
        "\n",
        "  * HTTP headers\n",
        "\n",
        "  * Cookies\n",
        "\n",
        "  * Request method (GET, POST, etc.)"
      ],
      "metadata": {
        "id": "R5m6843Yze7q"
      }
    },
    {
      "cell_type": "markdown",
      "source": [
        "Q- 14  How do you create a RESTful API endpoint using Flask?\n",
        "\n",
        "\n",
        "   ANS-- To create a RESTful API endpoint using Flask, you typically:\n",
        "\n",
        "   * Define a Route:Use the @app.route() decorator to define the URL path for the endpoint.\n",
        "\n",
        "   * Specify HTTP Methods: Use the methods argument in the @app.route() decorator to specify which HTTP methods are allowed for this endpoint (e.g., methods=['GET', 'POST']).\n",
        "\n",
        "   * Access Request Data: Use the request object to access data sent by the client (query parameters, form data, JSON data, etc.).\n",
        "\n",
        "    *  Process Data: Perform the necessary logic based on the request data and the HTTP method.\n",
        "\n",
        "   * Return a Response: Return a response, typically in JSON format, using jsonify() or by creating a Response object with the appropriate status code and data.\n"
      ],
      "metadata": {
        "id": "2pPHVV1d1AxZ"
      }
    },
    {
      "cell_type": "markdown",
      "source": [
        "Q- 15 What is the purpose of Flask's jsonify() function?\n",
        "\n",
        "  ANS-- The purpose of Flask's jsonify() function is to convert Python data structures (like dictionaries, lists, etc.) into a JSON-formatted HTTP response. It also sets the correct MIME type (application/json) and status code for the response.\n",
        "\n",
        "Key Features of jsonify():\n",
        "\n",
        "  1. Serialization:\n",
        "\n",
        "     * Converts Python dictionaries, lists, and other JSON-serializable types into a JSON string.\n",
        "\n",
        "  2. Content-Type Header:\n",
        "   \n",
        "     * Automatically sets the response header to Content-Type: application/json, which tells the client that the response is in JSON format.\n",
        "\n",
        "  3. Returns a Response Object:\n",
        "     \n",
        "     * Unlike json.dumps(), which just returns a JSON string, jsonify() returns a full Flask Response object, making it easier to return from a route.\n"
      ],
      "metadata": {
        "id": "zD2j5DwY8lfB"
      }
    },
    {
      "cell_type": "markdown",
      "source": [
        "Q-16  Explain Flask’s url_for() function.\n",
        "\n",
        "  ANS-- Flask’s url_for() function is used to build a URL for a specific function (usually a route handler) by its name, rather than hardcoding URLs into your application. It helps keep your code maintainable and flexible.\n",
        "\n",
        "\n",
        "  PURPOSE OF url_for()\n",
        "\n",
        "  * Generates dynamic URLs by referencing the name of a view function, not the actual URL path.\n",
        "\n",
        "  * Ensures consistency: if your route path changes, url_for() will still generate the correct URL.\n",
        "\n",
        "  * Can include query parameters or URL parameters.\n",
        "\n",
        "  BASIC SYNTAX\n",
        "\n",
        "  * endpoint: The name of the view function.\n",
        "\n",
        "  * **values: Variables to build the URL (used for dynamic segments or query strings)."
      ],
      "metadata": {
        "id": "rWKrr6u69ec4"
      }
    },
    {
      "cell_type": "markdown",
      "source": [
        "Q-17  How does Flask handle static files (CSS, JavaScript, etc.)?\n",
        "\n",
        "  ANS--Flask handles static files (like CSS, JavaScript, images, fonts, etc.) through a built-in mechanism that serves them from a special static/ folder in your project directory.\n",
        "\n",
        "\n",
        "Default Structure for Static Files in Flask.\n",
        "\n",
        "  your_app/\n",
        "│\n",
        "├── app.py\n",
        "├── static/\n",
        "│   ├── style.css\n",
        "│   ├── script.js\n",
        "│   └── images/\n",
        "│       └── logo.png\n",
        "└── templates/\n",
        "    └── index.html\n"
      ],
      "metadata": {
        "id": "wQiiriQK-Uwn"
      }
    },
    {
      "cell_type": "markdown",
      "source": [
        "Q-18  What is an API specification, and how does it help in building a Flask API?\n",
        "\n",
        "  ANS-- An API specification is a formal, structured description of how an API works — what endpoints are available, what requests they accept, and what responses they return. It serves as a blueprint or contract between the backend (API developers) and the frontend (or any clients).\n",
        "\n",
        "  Common API specification formats include:\n",
        "\n",
        "  * OpenAPI (formerly Swagger) – most popular\n",
        "\n",
        "  * RAML\n",
        "\n",
        "  * API Blueprint\n",
        "\n",
        "  What's Included in an API Specification?\n",
        "\n",
        "A typical API spec defines:\n",
        "\n",
        "* Endpoints (URLs)\n",
        "\n",
        "   e.g., GET /users, POST /login\n",
        "\n",
        "* Methods\n",
        "\n",
        "  GET, POST, PUT, DELETE, etc.\n",
        "\n",
        "* Request Parameters\n",
        "   \n",
        "   * Path params: /user/<id>\n",
        "\n",
        "   * Query params: ?search=term\n",
        "\n",
        "   * Body data: JSON or form data\n",
        "\n",
        "* Response Formats\n",
        "   \n",
        "   * Status codes (200 OK, 404 Not Found, etc.)\n",
        "\n",
        "   * JSON structure of the response\n",
        "\n",
        "   * Authentication details\n",
        "\n",
        "   * Error messages"
      ],
      "metadata": {
        "id": "M0kipeu6_OQC"
      }
    },
    {
      "cell_type": "markdown",
      "source": [
        "Q-19 What are HTTP status codes, and why are they important in a Flask API?\n",
        "\n",
        "  ANS-- HTTP status codes are three-digit numbers returned by a server in response to an HTTP request. They indicate the result of the request — whether it was successful, had an error, was unauthorized, etc.\n",
        "\n",
        "These codes are part of the HTTP protocol and are essential in any web API, including Flask APIs.\n",
        "\n",
        " Why HTTP Status Codes Are Important in a Flask API:-\n",
        "\n",
        " 1.Communicate the Result of an API Call\n",
        "\n",
        "  * Tells the client whether the request succeeded, failed, or needs changes.\n",
        "\n",
        "  * Example:\n",
        "    \n",
        "    200 OK → success\n",
        "400 Bad Request → client error (e.g., invalid input)\n",
        "\n",
        "2. Helps with Debugging\n",
        "\n",
        "  * Clear error codes make it easier to identify what went wrong.\n",
        "\n",
        "  * A 404 Not Found is more helpful than a generic server error.\n",
        "\n",
        "3. Enables Consistent API Behavior\n",
        "  \n",
        "  * Standardized status codes make your API more predictable and easier to use.\n",
        "\n",
        "4. Essential for Frontend Integration\n",
        "\n",
        " * Frontend developers can programmatically react to different responses.\n",
        "\n",
        " * Example: Redirect on 401 Unauthorized, show errors for 400 Bad Request.\n"
      ],
      "metadata": {
        "id": "kkd08tFGAyCa"
      }
    },
    {
      "cell_type": "markdown",
      "source": [
        "Q-20  How do you handle POST requests in Flask?\n",
        "\n",
        " ANS-- How to Handle POST Requests in Flask\n",
        "\n",
        " 1. Defining a route that allows the POST method.\n",
        "\n",
        " 2. Accessing data sent in the request (e.g., JSON or form data).\n",
        "\n",
        " 3. Processing the data and returning a response.\n",
        "\n"
      ],
      "metadata": {
        "id": "-5qzPvMPC6UA"
      }
    },
    {
      "cell_type": "markdown",
      "source": [
        "Q-21  How would you secure a Flask API?\n",
        "\n",
        "  ANS-- Securing a Flask API is critical to protect your data, users, and system from unauthorized access, abuse, and attacks. Flask by itself is minimal, so you’ll need to implement several layers of security.\n",
        "\n",
        "  How to Secure a Flask API\n",
        "\n",
        "1. Use HTTPS (SSL/TLS)\n",
        "\n",
        "  * Serve your API over HTTPS, not HTTP.\n",
        "\n",
        "  * Encrypts data in transit, preventing man-in-the-middle (MITM) attacks.\n",
        "\n",
        "  * Use a reverse proxy like Nginx with Let's Encrypt for production HTTPS.\n",
        "\n",
        "2. Authentication\n",
        "\n",
        "  * Token-Based Authentication\n",
        "\n",
        "  * JWT (JSON Web Tokens) is commonly used.\n",
        "\n",
        "  * Clients include a token in the Authorization header:\n",
        "\n",
        "3. Authorization\n",
        "  \n",
        "  Control what an authenticated user can do.\n",
        "\n",
        "  * Role-based access (e.g., admin vs regular user)\n",
        "\n",
        "  * Scope-based tokens (OAuth2-style)\n",
        "\n",
        "  * Custom decorators to restrict access\n",
        "\n",
        "4. Input Validation & Sanitization\n",
        "\n",
        "  Always validate and sanitize user input to prevent:\n",
        "\n",
        "  * SQL Injection\n",
        "\n",
        "  * XSS (if returning HTML)\n",
        "\n",
        "  * Command Injection"
      ],
      "metadata": {
        "id": "xL7sD30XERc9"
      }
    },
    {
      "cell_type": "markdown",
      "source": [
        "Q-22  What is the significance of the Flask-RESTful extension?\n",
        "\n",
        "  ANS-- Flask-RESTful is an extension for Flask that simplifies building RESTful APIs. It provides tools and abstractions to help you create clean, organized, and scalable APIs with minimal boilerplate.\n",
        "\n",
        "\n",
        "Significance of Flask-RESTful\n",
        "\n",
        " 1. Class-Based Resource Routing\n",
        "\n",
        " Instead of defining routes with functions, you use Python classes to represent API resources.\n",
        "\n",
        "  EXAMPLE:\n",
        "    \n",
        "     from flask_restful import Resource\n",
        "\n",
        "class HelloWorld(Resource):\n",
        "    def get(self):\n",
        "        return {'message': 'Hello, world!'}\n",
        "\n",
        "2. Automatic Route Binding with api.add_resource()\n",
        "\n",
        "No need for manual route decorators.\n",
        "\n",
        "EXAMPLE:\n",
        "   \n",
        "   from flask import Flask\n",
        "from flask_restful import Api\n",
        "\n",
        "app = Flask(__name__)\n",
        "api = Api(app)\n",
        "\n",
        "api.add_resource(HelloWorld, '/')\n"
      ],
      "metadata": {
        "id": "0Njq5NbzGKSP"
      }
    },
    {
      "cell_type": "markdown",
      "source": [
        "Q-23  What is the role of Flask’s session object?\n",
        "\n",
        "  ANS-- Since HTTP is a stateless protocol (it doesn't remember users between requests), the session object provides a way to persist information (like login state or user preferences) across multiple interactions with your Flask app.\n",
        "\n",
        "\n",
        " Key Roles of session in Flask\n",
        "\n",
        " 1. Maintains User State\n",
        "\n",
        "Stores small amounts of data like:\n",
        "\n",
        "  * session['username'] = 'alice'\n",
        "\n",
        "  * session['logged_in'] = True\n",
        "\n",
        " 2. Cookie-Based Storage\n",
        "\n",
        "   * Data is stored client-side in a secure cookie.\n",
        "\n",
        "   * Flask signs the cookie with your app’s SECRET_KEY to prevent tampering.\n",
        "\n",
        "   * The data is:\n",
        "      \n",
        "      * Visible to the client (not encrypted)\n",
        "\n",
        "      * Tamper-proof (signed to ensure integrity)\n",
        "\n",
        "  3. Used for Login Sessions\n",
        "   \n",
        " It's commonly used to store:\n",
        "\n",
        "  * user_id\n",
        "\n",
        "  * is_admin\n",
        "\n",
        "  * auth_token\n"
      ],
      "metadata": {
        "id": "TXWQGYbfHEMN"
      }
    },
    {
      "cell_type": "markdown",
      "source": [
        "PRACTICAL QUSTIONS"
      ],
      "metadata": {
        "id": "9eFwHHdgJaf2"
      }
    },
    {
      "cell_type": "markdown",
      "source": [
        "Q- 1  How do you create a basic Flask application?\n"
      ],
      "metadata": {
        "id": "-BxPTZXRvtD4"
      }
    },
    {
      "cell_type": "code",
      "source": [
        "from flask import Flask\n",
        "\n",
        "# Create a Flask instance\n",
        "app = Flask(__name__)\n",
        "\n",
        "# Define a route\n",
        "@app.route(\"/\")\n",
        "def home():\n",
        "  return \"Hello, Flask!\"\n",
        "\n",
        "# Run the app (for development)\n",
        "# In a real-world application, you would use a production-ready server\n",
        "if __name__ == \"__main__\":\n",
        "  app.run(debug=True)"
      ],
      "metadata": {
        "id": "DHJGUa2c-MEz"
      },
      "execution_count": null,
      "outputs": []
    },
    {
      "cell_type": "markdown",
      "source": [
        "Q-2  How do you serve static files like images or CSS in Flask?"
      ],
      "metadata": {
        "id": "KjR9HvsVzPXK"
      }
    },
    {
      "cell_type": "code",
      "source": [
        "from flask import Flask, url_for, render_template\n",
        "\n",
        "app = Flask(__name__)\n",
        "\n",
        "@app.route('/')\n",
        "def index():\n",
        "  return render_template('index.html')\n",
        "\n",
        "# To serve static files, place them in a folder named 'static'\n",
        "# in the same directory as your application file.\n",
        "# For example, you can have a 'static' folder with 'style.css' inside.\n",
        "# In your HTML template, you can link to it like this:\n",
        "#\n",
        "\n",
        "# Example of an index.html template in a 'templates' folder:\n",
        "#\n",
        "#\n",
        "#\n",
        "#\n",
        "#\n",
        "#\n",
        "#     Hello from Flask!\n",
        "#     This is a demonstration of serving static files.\n",
        "#\n",
        "#\n",
        "\n",
        "# Example of a style.css file in a 'static' folder:\n",
        "# body {\n",
        "#     font-family: sans-serif;\n",
        "#     background-color: lightblue;\n",
        "# }\n"
      ],
      "metadata": {
        "id": "goiEFmsT8XW7"
      },
      "execution_count": null,
      "outputs": []
    },
    {
      "cell_type": "markdown",
      "source": [
        "Q-3  How do you define different routes with different HTTP methods in Flask?"
      ],
      "metadata": {
        "id": "-VZaUYpQBZtM"
      }
    },
    {
      "cell_type": "code",
      "source": [
        "from flask import Flask, request\n",
        "\n",
        "app = Flask(__name__)\n",
        "\n",
        "# Route that accepts GET and POST requests\n",
        "@app.route('/submit', methods=['GET', 'POST'])\n",
        "def submit():\n",
        "    if request.method == 'POST':\n",
        "        # Handle POST request data\n",
        "        return 'Received POST request!'\n",
        "    else:\n",
        "        # Handle GET request\n",
        "        return 'Send a POST request to this endpoint.'\n",
        "\n",
        "# Route that only accepts GET requests (default)\n",
        "@app.route('/data', methods=['GET'])\n",
        "def get_data():\n",
        "    return 'This endpoint only accepts GET requests.'\n",
        "\n",
        "# Route that only accepts POST requests\n",
        "@app.route('/create', methods=['POST'])\n",
        "def create_resource():\n",
        "    # Handle POST request to create a resource\n",
        "    return 'Resource created!', 201 # Return 201 Created status code\n",
        "\n",
        "if __name__ == '__main__':\n",
        "    app.run(debug=True)\n",
        "\n"
      ],
      "metadata": {
        "id": "-xgV_QlUBfeW"
      },
      "execution_count": null,
      "outputs": []
    },
    {
      "cell_type": "markdown",
      "source": [
        "Q-4  How do you render HTML templates in Flask?"
      ],
      "metadata": {
        "id": "QCc2MClqBqRF"
      }
    },
    {
      "cell_type": "code",
      "source": [
        "from flask import Flask, render_template\n",
        "\n",
        "app = Flask(__name__)\n",
        "\n",
        "@app.route('/')\n",
        "def index():\n",
        "  # Flask looks for templates in a 'templates' folder by default\n",
        "  return render_template('index.html')\n",
        "\n",
        "# Example of an index.html template in a 'templates' folder:\n",
        "#\n",
        "#\n",
        "#\n",
        "#     My Flask App\n",
        "#\n",
        "#\n",
        "#     Hello from an HTML Template!\n",
        "#     This content is rendered from index.html.\n",
        "#\n",
        "#\n",
        "\n",
        "if __name__ == '__main__':\n",
        "    app.run(debug=True)\n"
      ],
      "metadata": {
        "id": "DmX5G1lJB2fV"
      },
      "execution_count": null,
      "outputs": []
    },
    {
      "cell_type": "markdown",
      "source": [
        "Q-5 How can you generate URLs for routes in Flask using url_for?\n"
      ],
      "metadata": {
        "id": "I1exJ1UfB8pa"
      }
    },
    {
      "cell_type": "code",
      "source": [
        "from flask import Flask, url_for\n",
        "\n",
        "app = Flask(__name__)\n",
        "\n",
        "@app.route('/')\n",
        "def index():\n",
        "    return 'Hello from the index page!'\n",
        "\n",
        "@app.route('/user/')\n",
        "def show_user_profile(username):\n",
        "    return f'User: {username}'\n",
        "\n",
        "@app.route('/post/')\n",
        "def show_post(post_id):\n",
        "    return f'Post ID: {post_id}'\n",
        "\n",
        "with app.test_request_context():\n",
        "    # Generate URL for the 'index' function\n",
        "    index_url = url_for('index')\n",
        "    print(f\"URL for index: {index_url}\")\n",
        "\n",
        "    # Generate URL for the 'show_user_profile' function with a username\n",
        "    user_url = url_for('show_user_profile', username='john_doe')\n",
        "    print(f\"URL for user profile: {user_url}\")\n",
        "\n",
        "    # Generate URL for the 'show_post' function with a post ID\n",
        "    post_url = url_for('show_post', post_id=123)\n",
        "    print(f\"URL for post: {post_url}\")\n",
        "\n",
        "    # Generate URL with query parameters\n",
        "    next_page_url = url_for('index', next='/')\n",
        "    print(f\"URL with query parameter: {next_page_url}\")"
      ],
      "metadata": {
        "id": "6W2B2K42CBTr"
      },
      "execution_count": null,
      "outputs": []
    },
    {
      "cell_type": "markdown",
      "source": [
        "Q-6 How do you handle forms in Flask?"
      ],
      "metadata": {
        "id": "dQLDI1b8CNJI"
      }
    },
    {
      "cell_type": "code",
      "source": [
        "from flask import Flask, request, render_template\n",
        "\n",
        "app = Flask(__name__)\n",
        "\n",
        "@app.route('/form', methods=['GET', 'POST'])\n",
        "def handle_form():\n",
        "    if request.method == 'POST':\n",
        "        # Get data from the form\n",
        "        name = request.form.get('name')\n",
        "        email = request.form.get('email')\n",
        "        return f'Thank you, {name}! Your email is {email}.'\n",
        "    # Render the form template for GET requests\n",
        "    return render_template('form.html')\n",
        "\n",
        "# Example of a form.html template in a 'templates' folder:\n",
        "#\n",
        "#\n",
        "#\n",
        "#     Form Example\n",
        "#\n",
        "#\n",
        "#     Simple Form\n",
        "#\n",
        "#         Name:\n",
        "#\n",
        "#         Email:\n",
        "#\n",
        "#\n",
        "#\n",
        "#\n",
        "#\n",
        "\n",
        "if __name__ == '__main__':\n",
        "    app.run(debug=True)\n"
      ],
      "metadata": {
        "id": "R6hmBJ6tCSPx"
      },
      "execution_count": null,
      "outputs": []
    },
    {
      "cell_type": "markdown",
      "source": [
        "Q-7  How can you validate form data in Flask?\n"
      ],
      "metadata": {
        "id": "I3CKkYYYCXuI"
      }
    },
    {
      "cell_type": "code",
      "source": [
        "from flask import Flask, request, render_template\n",
        "\n",
        "app = Flask(__name__)\n",
        "\n",
        "@app.route('/validate_form', methods=['GET', 'POST'])\n",
        "def validate_form():\n",
        "    if request.method == 'POST':\n",
        "        name = request.form.get('name')\n",
        "        email = request.form.get('email')\n",
        "        errors = {}\n",
        "\n",
        "        if not name:\n",
        "            errors['name'] = 'Name is required.'\n",
        "        if not email:\n",
        "            errors['email'] = 'Email is required.'\n",
        "        elif '@' not in email:\n",
        "            errors['email'] = 'Invalid email format.'\n",
        "\n",
        "        if errors:\n",
        "            # If there are errors, re-render the form with error messages\n",
        "            return render_template('validate_form.html', errors=errors, name=name, email=email)\n",
        "        else:\n",
        "            # If validation passes, process the data\n",
        "            return f'Form submitted successfully! Name: {name}, Email: {email}'\n",
        "\n",
        "    # Render the form template for GET requests\n",
        "    return render_template('validate_form.html')\n",
        "\n",
        "# Example of a validate_form.html template in a 'templates' folder:\n",
        "#\n",
        "#\n",
        "#\n",
        "#     Form Validation Example\n",
        "#\n",
        "#\n",
        "#\n",
        "#     Form Validation\n",
        "#\n",
        "#\n",
        "#             Name:\n",
        "#\n",
        "#             {% if errors and errors.name %}{{ errors.name }}{% endif %}\n",
        "#\n",
        "#\n",
        "#\n",
        "#             Email:\n",
        "#\n",
        "#             {% if errors and errors.email %}{{ errors.email }}{% endif %}\n",
        "#\n",
        "#\n",
        "#\n",
        "#\n",
        "#\n",
        "#\n",
        "\n",
        "if __name__ == '__main__':\n",
        "    app.run(debug=True)"
      ],
      "metadata": {
        "id": "tap4WxY_Ci90"
      },
      "execution_count": null,
      "outputs": []
    },
    {
      "cell_type": "markdown",
      "source": [
        "Q-8 How do you manage sessions in Flask?"
      ],
      "metadata": {
        "id": "No4CpC2RCrHq"
      }
    },
    {
      "cell_type": "code",
      "source": [
        "from flask import Flask, session, redirect, url_for, request\n",
        "\n",
        "app = Flask(__name__)\n",
        "# Set a secret key for signing the session cookie\n",
        "# In a real application, use a strong, randomly generated key\n",
        "app.secret_key = 'your_secret_key'\n",
        "\n",
        "@app.route('/')\n",
        "def index():\n",
        "    if 'username' in session:\n",
        "        return f'Logged in as {session[\"username\"]}'\n",
        "    return 'You are not logged in'\n",
        "\n",
        "@app.route('/login', methods=['GET', 'POST'])\n",
        "def login():\n",
        "    if request.method == 'POST':\n",
        "        session['username'] = request.form['username']\n",
        "        return redirect(url_for('index'))\n",
        "    return '''\n",
        "\n",
        "\n",
        "\n",
        "\n",
        "    '''\n",
        "\n",
        "@app.route('/logout')\n",
        "def logout():\n",
        "    # Remove the username from the session if it's there\n",
        "    session.pop('username', None)\n",
        "    return redirect(url_for('index'))\n",
        "\n",
        "if __name__ == '__main__':\n",
        "    app.run(debug=True)"
      ],
      "metadata": {
        "id": "k3bruZE8CyV5"
      },
      "execution_count": null,
      "outputs": []
    },
    {
      "cell_type": "markdown",
      "source": [
        "Q-9 How do you redirect to a different route in Flask?\n"
      ],
      "metadata": {
        "id": "OhPZCxzWC4Nc"
      }
    },
    {
      "cell_type": "code",
      "source": [
        "from flask import Flask, redirect, url_for\n",
        "\n",
        "app = Flask(__name__)\n",
        "\n",
        "@app.route('/')\n",
        "def index():\n",
        "    return 'This is the index page. You will be redirected to the target page.'\n",
        "\n",
        "@app.route('/redirect_to_target')\n",
        "def redirect_example():\n",
        "    # Redirect to the 'target_page' route\n",
        "    return redirect(url_for('target_page'))\n",
        "\n",
        "@app.route('/target')\n",
        "def target_page():\n",
        "    return 'You have been redirected to the target page!'\n",
        "\n",
        "if __name__ == '__main__':\n",
        "    app.run(debug=True)"
      ],
      "metadata": {
        "id": "hqOENfhUC7id"
      },
      "execution_count": null,
      "outputs": []
    },
    {
      "cell_type": "markdown",
      "source": [
        "Q-10 How do you handle errors in Flask (e.g., 404)?\n"
      ],
      "metadata": {
        "id": "6lbBIRUVDB3h"
      }
    },
    {
      "cell_type": "code",
      "source": [
        "from flask import Flask, render_template\n",
        "\n",
        "app = Flask(__name__)\n",
        "\n",
        "@app.route('/')\n",
        "def index():\n",
        "    return 'Hello, this is the index page.'\n",
        "\n",
        "# Custom error handler for 404 Not Found errors\n",
        "@app.errorhandler(404)\n",
        "def page_not_found(error):\n",
        "    # You can render a custom template or return a simple string\n",
        "    return render_template('404.html'), 404\n",
        "\n",
        "# Example of a 404.html template in a 'templates' folder:\n",
        "#\n",
        "#\n",
        "#\n",
        "#     Page Not Found\n",
        "#\n",
        "#\n",
        "#     Page Not Found\n",
        "#     The requested URL was not found on the server. If you entered the URL manually please check your spelling and try again.\n",
        "#\n",
        "#\n",
        "\n",
        "if __name__ == '__main__':\n",
        "    app.run(debug=True)"
      ],
      "metadata": {
        "id": "wllx9Ci5DF87"
      },
      "execution_count": null,
      "outputs": []
    },
    {
      "cell_type": "markdown",
      "source": [
        "Q-11 How do you structure a Flask app using Blueprints?"
      ],
      "metadata": {
        "id": "v8oM8piDDfmZ"
      }
    },
    {
      "cell_type": "code",
      "source": [
        "# app.py\n",
        "from flask import Flask\n",
        "\n",
        "def create_app():\n",
        "    app = Flask(__name__)\n",
        "\n",
        "    # Register blueprints\n",
        "    from .main import main as main_blueprint\n",
        "    app.register_blueprint(main_blueprint)\n",
        "\n",
        "    from .auth import auth as auth_blueprint\n",
        "    app.register_blueprint(auth_blueprint, url_prefix='/auth')\n",
        "\n",
        "    return app\n",
        "\n",
        "if __name__ == '__main__':\n",
        "    app = create_app()\n",
        "    app.run(debug=True)\n",
        "\n",
        "\n",
        "# main.py (inside a 'main' folder)\n",
        "from flask import Blueprint\n",
        "\n",
        "main = Blueprint('main', __name__)\n",
        "\n",
        "@main.route('/')\n",
        "def index():\n",
        "    return 'Hello from the main blueprint!'\n",
        "\n",
        "\n",
        "# auth.py (inside an 'auth' folder)\n",
        "from flask import Blueprint\n",
        "\n",
        "auth = Blueprint('auth', __name__)\n",
        "\n",
        "@auth.route('/login')\n",
        "def login():\n",
        "    return 'This is the login page from the auth blueprint.'\n"
      ],
      "metadata": {
        "id": "cvlf-DQmDnRy"
      },
      "execution_count": null,
      "outputs": []
    },
    {
      "cell_type": "markdown",
      "source": [
        "Q-12 from flask import Flask, render_template\n",
        "\n",
        "\n"
      ],
      "metadata": {
        "id": "6czjDcY9DwKX"
      }
    },
    {
      "cell_type": "code",
      "source": [
        "from flask import Flask, render_template\n",
        "\n",
        "app = Flask(__name__)\n",
        "\n",
        "# Define a custom Jinja filter\n",
        "@app.template_filter('capitalize_words')\n",
        "def capitalize_words_filter(s):\n",
        "    return s.title()\n",
        "\n",
        "@app.route('/')\n",
        "def index():\n",
        "    my_text = \"hello world\"\n",
        "    return render_template('filter_example.html', my_text=my_text)\n",
        "\n",
        "# Example of a filter_example.html template in a 'templates' folder:\n",
        "#\n",
        "#\n",
        "#\n",
        "#     Custom Filter Example\n",
        "#\n",
        "#\n",
        "#     Custom Jinja Filter\n",
        "#     Original text: {{ my_text }}\n",
        "#     Text with custom filter: {{ my_text | capitalize_words }}\n",
        "#\n",
        "#\n",
        "\n",
        "if __name__ == '__main__':\n",
        "    app.run(debug=True)"
      ],
      "metadata": {
        "id": "33FqYubCD8aC"
      },
      "execution_count": null,
      "outputs": []
    },
    {
      "cell_type": "markdown",
      "source": [
        "Q-13 How can you redirect with query parameters in Flask?\n"
      ],
      "metadata": {
        "id": "9qYwsdDIEIov"
      }
    },
    {
      "cell_type": "code",
      "source": [
        "from flask import Flask, redirect, url_for\n",
        "\n",
        "app = Flask(__name__)\n",
        "\n",
        "@app.route('/')\n",
        "def index():\n",
        "    return 'This is the index page.'\n",
        "\n",
        "@app.route('/redirect_with_params')\n",
        "def redirect_with_params():\n",
        "    # Redirect to the 'target_page' route with query parameters\n",
        "    return redirect(url_for('target_page', param1='value1', param2='value2'))\n",
        "\n",
        "@app.route('/target')\n",
        "def target_page():\n",
        "    # You can access the query parameters in the target route using request.args\n",
        "    from flask import request\n",
        "    param1 = request.args.get('param1')\n",
        "    param2 = request.args.get('param2')\n",
        "    return f'You have been redirected to the target page! Param1: {param1}, Param2: {param2}'\n",
        "\n",
        "if __name__ == '__main__':\n",
        "    app.run(debug=True)\n"
      ],
      "metadata": {
        "id": "SLBq7ZKvENBM"
      },
      "execution_count": null,
      "outputs": []
    },
    {
      "cell_type": "markdown",
      "source": [
        "Q-14 How do you return JSON responses in Flask?"
      ],
      "metadata": {
        "id": "uSF2H4_7Eg13"
      }
    },
    {
      "cell_type": "code",
      "source": [
        "from flask import Flask, jsonify\n",
        "\n",
        "app = Flask(__name__)\n",
        "\n",
        "@app.route('/data')\n",
        "def get_data():\n",
        "    data = {\n",
        "        'name': 'John Doe',\n",
        "        'age': 30,\n",
        "        'city': 'New York'\n",
        "    }\n",
        "    return jsonify(data)\n",
        "\n",
        "@app.route('/list_data')\n",
        "def get_list_data():\n",
        "    data = [\n",
        "        {'id': 1, 'item': 'apple'},\n",
        "        {'id': 2, 'item': 'banana'}\n",
        "    ]\n",
        "    return jsonify(data)\n",
        "\n",
        "if __name__ == '__main__':\n",
        "    app.run(debug=True)"
      ],
      "metadata": {
        "id": "P4o_FxV3ElS7"
      },
      "execution_count": null,
      "outputs": []
    },
    {
      "cell_type": "markdown",
      "source": [
        "Q-15 How do you capture URL parameters in Flask?from flask import Flask\n"
      ],
      "metadata": {
        "id": "zWHd02BeEpRO"
      }
    },
    {
      "cell_type": "code",
      "source": [
        "app = Flask(__name__)\n",
        "\n",
        "# Define a route with a URL parameter 'name'\n",
        "@app.route('/user/')\n",
        "def show_user(name):\n",
        "  # The value of the URL parameter 'name' is passed as an argument to the function\n",
        "  return f'Hello, {name}!'\n",
        "\n",
        "# Define a route with a URL parameter 'post_id' which is an integer\n",
        "@app.route('/post/')\n",
        "def show_post(post_id):\n",
        "  # The value of the URL parameter 'post_id' is passed as an integer argument\n",
        "  return f'Post ID: {post_id}'\n",
        "\n",
        "if __name__ == '__main__':\n",
        "  app.run(debug=True)"
      ],
      "metadata": {
        "id": "pQourRIkEvRs"
      },
      "execution_count": null,
      "outputs": []
    }
  ]
}